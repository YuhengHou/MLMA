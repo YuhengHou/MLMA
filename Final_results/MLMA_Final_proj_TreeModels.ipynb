{
  "nbformat": 4,
  "nbformat_minor": 0,
  "metadata": {
    "colab": {
      "provenance": []
    },
    "kernelspec": {
      "name": "python3",
      "display_name": "Python 3"
    },
    "language_info": {
      "name": "python"
    }
  },
  "cells": [
    {
      "cell_type": "code",
      "source": [
        "!pip install datasets"
      ],
      "metadata": {
        "collapsed": true,
        "id": "reLcWjpiTIa0",
        "colab": {
          "base_uri": "https://localhost:8080/"
        },
        "outputId": "d964255f-d72e-4760-ee4e-5da38798f813"
      },
      "execution_count": 3,
      "outputs": [
        {
          "output_type": "stream",
          "name": "stdout",
          "text": [
            "Collecting datasets\n",
            "  Downloading datasets-3.5.0-py3-none-any.whl.metadata (19 kB)\n",
            "Requirement already satisfied: filelock in /usr/local/lib/python3.11/dist-packages (from datasets) (3.18.0)\n",
            "Requirement already satisfied: numpy>=1.17 in /usr/local/lib/python3.11/dist-packages (from datasets) (2.0.2)\n",
            "Requirement already satisfied: pyarrow>=15.0.0 in /usr/local/lib/python3.11/dist-packages (from datasets) (18.1.0)\n",
            "Collecting dill<0.3.9,>=0.3.0 (from datasets)\n",
            "  Downloading dill-0.3.8-py3-none-any.whl.metadata (10 kB)\n",
            "Requirement already satisfied: pandas in /usr/local/lib/python3.11/dist-packages (from datasets) (2.2.2)\n",
            "Requirement already satisfied: requests>=2.32.2 in /usr/local/lib/python3.11/dist-packages (from datasets) (2.32.3)\n",
            "Requirement already satisfied: tqdm>=4.66.3 in /usr/local/lib/python3.11/dist-packages (from datasets) (4.67.1)\n",
            "Collecting xxhash (from datasets)\n",
            "  Downloading xxhash-3.5.0-cp311-cp311-manylinux_2_17_x86_64.manylinux2014_x86_64.whl.metadata (12 kB)\n",
            "Collecting multiprocess<0.70.17 (from datasets)\n",
            "  Downloading multiprocess-0.70.16-py311-none-any.whl.metadata (7.2 kB)\n",
            "Collecting fsspec<=2024.12.0,>=2023.1.0 (from fsspec[http]<=2024.12.0,>=2023.1.0->datasets)\n",
            "  Downloading fsspec-2024.12.0-py3-none-any.whl.metadata (11 kB)\n",
            "Requirement already satisfied: aiohttp in /usr/local/lib/python3.11/dist-packages (from datasets) (3.11.15)\n",
            "Requirement already satisfied: huggingface-hub>=0.24.0 in /usr/local/lib/python3.11/dist-packages (from datasets) (0.30.2)\n",
            "Requirement already satisfied: packaging in /usr/local/lib/python3.11/dist-packages (from datasets) (24.2)\n",
            "Requirement already satisfied: pyyaml>=5.1 in /usr/local/lib/python3.11/dist-packages (from datasets) (6.0.2)\n",
            "Requirement already satisfied: aiohappyeyeballs>=2.3.0 in /usr/local/lib/python3.11/dist-packages (from aiohttp->datasets) (2.6.1)\n",
            "Requirement already satisfied: aiosignal>=1.1.2 in /usr/local/lib/python3.11/dist-packages (from aiohttp->datasets) (1.3.2)\n",
            "Requirement already satisfied: attrs>=17.3.0 in /usr/local/lib/python3.11/dist-packages (from aiohttp->datasets) (25.3.0)\n",
            "Requirement already satisfied: frozenlist>=1.1.1 in /usr/local/lib/python3.11/dist-packages (from aiohttp->datasets) (1.5.0)\n",
            "Requirement already satisfied: multidict<7.0,>=4.5 in /usr/local/lib/python3.11/dist-packages (from aiohttp->datasets) (6.4.3)\n",
            "Requirement already satisfied: propcache>=0.2.0 in /usr/local/lib/python3.11/dist-packages (from aiohttp->datasets) (0.3.1)\n",
            "Requirement already satisfied: yarl<2.0,>=1.17.0 in /usr/local/lib/python3.11/dist-packages (from aiohttp->datasets) (1.19.0)\n",
            "Requirement already satisfied: typing-extensions>=3.7.4.3 in /usr/local/lib/python3.11/dist-packages (from huggingface-hub>=0.24.0->datasets) (4.13.2)\n",
            "Requirement already satisfied: charset-normalizer<4,>=2 in /usr/local/lib/python3.11/dist-packages (from requests>=2.32.2->datasets) (3.4.1)\n",
            "Requirement already satisfied: idna<4,>=2.5 in /usr/local/lib/python3.11/dist-packages (from requests>=2.32.2->datasets) (3.10)\n",
            "Requirement already satisfied: urllib3<3,>=1.21.1 in /usr/local/lib/python3.11/dist-packages (from requests>=2.32.2->datasets) (2.3.0)\n",
            "Requirement already satisfied: certifi>=2017.4.17 in /usr/local/lib/python3.11/dist-packages (from requests>=2.32.2->datasets) (2025.1.31)\n",
            "Requirement already satisfied: python-dateutil>=2.8.2 in /usr/local/lib/python3.11/dist-packages (from pandas->datasets) (2.8.2)\n",
            "Requirement already satisfied: pytz>=2020.1 in /usr/local/lib/python3.11/dist-packages (from pandas->datasets) (2025.2)\n",
            "Requirement already satisfied: tzdata>=2022.7 in /usr/local/lib/python3.11/dist-packages (from pandas->datasets) (2025.2)\n",
            "Requirement already satisfied: six>=1.5 in /usr/local/lib/python3.11/dist-packages (from python-dateutil>=2.8.2->pandas->datasets) (1.17.0)\n",
            "Downloading datasets-3.5.0-py3-none-any.whl (491 kB)\n",
            "\u001b[2K   \u001b[90m━━━━━━━━━━━━━━━━━━━━━━━━━━━━━━━━━━━━━━━━\u001b[0m \u001b[32m491.2/491.2 kB\u001b[0m \u001b[31m14.8 MB/s\u001b[0m eta \u001b[36m0:00:00\u001b[0m\n",
            "\u001b[?25hDownloading dill-0.3.8-py3-none-any.whl (116 kB)\n",
            "\u001b[2K   \u001b[90m━━━━━━━━━━━━━━━━━━━━━━━━━━━━━━━━━━━━━━━━\u001b[0m \u001b[32m116.3/116.3 kB\u001b[0m \u001b[31m9.6 MB/s\u001b[0m eta \u001b[36m0:00:00\u001b[0m\n",
            "\u001b[?25hDownloading fsspec-2024.12.0-py3-none-any.whl (183 kB)\n",
            "\u001b[2K   \u001b[90m━━━━━━━━━━━━━━━━━━━━━━━━━━━━━━━━━━━━━━━━\u001b[0m \u001b[32m183.9/183.9 kB\u001b[0m \u001b[31m14.5 MB/s\u001b[0m eta \u001b[36m0:00:00\u001b[0m\n",
            "\u001b[?25hDownloading multiprocess-0.70.16-py311-none-any.whl (143 kB)\n",
            "\u001b[2K   \u001b[90m━━━━━━━━━━━━━━━━━━━━━━━━━━━━━━━━━━━━━━━━\u001b[0m \u001b[32m143.5/143.5 kB\u001b[0m \u001b[31m11.1 MB/s\u001b[0m eta \u001b[36m0:00:00\u001b[0m\n",
            "\u001b[?25hDownloading xxhash-3.5.0-cp311-cp311-manylinux_2_17_x86_64.manylinux2014_x86_64.whl (194 kB)\n",
            "\u001b[2K   \u001b[90m━━━━━━━━━━━━━━━━━━━━━━━━━━━━━━━━━━━━━━━━\u001b[0m \u001b[32m194.8/194.8 kB\u001b[0m \u001b[31m14.1 MB/s\u001b[0m eta \u001b[36m0:00:00\u001b[0m\n",
            "\u001b[?25hInstalling collected packages: xxhash, fsspec, dill, multiprocess, datasets\n",
            "  Attempting uninstall: fsspec\n",
            "    Found existing installation: fsspec 2025.3.2\n",
            "    Uninstalling fsspec-2025.3.2:\n",
            "      Successfully uninstalled fsspec-2025.3.2\n",
            "\u001b[31mERROR: pip's dependency resolver does not currently take into account all the packages that are installed. This behaviour is the source of the following dependency conflicts.\n",
            "gcsfs 2025.3.2 requires fsspec==2025.3.2, but you have fsspec 2024.12.0 which is incompatible.\n",
            "torch 2.6.0+cu124 requires nvidia-cublas-cu12==12.4.5.8; platform_system == \"Linux\" and platform_machine == \"x86_64\", but you have nvidia-cublas-cu12 12.5.3.2 which is incompatible.\n",
            "torch 2.6.0+cu124 requires nvidia-cuda-cupti-cu12==12.4.127; platform_system == \"Linux\" and platform_machine == \"x86_64\", but you have nvidia-cuda-cupti-cu12 12.5.82 which is incompatible.\n",
            "torch 2.6.0+cu124 requires nvidia-cuda-nvrtc-cu12==12.4.127; platform_system == \"Linux\" and platform_machine == \"x86_64\", but you have nvidia-cuda-nvrtc-cu12 12.5.82 which is incompatible.\n",
            "torch 2.6.0+cu124 requires nvidia-cuda-runtime-cu12==12.4.127; platform_system == \"Linux\" and platform_machine == \"x86_64\", but you have nvidia-cuda-runtime-cu12 12.5.82 which is incompatible.\n",
            "torch 2.6.0+cu124 requires nvidia-cudnn-cu12==9.1.0.70; platform_system == \"Linux\" and platform_machine == \"x86_64\", but you have nvidia-cudnn-cu12 9.3.0.75 which is incompatible.\n",
            "torch 2.6.0+cu124 requires nvidia-cufft-cu12==11.2.1.3; platform_system == \"Linux\" and platform_machine == \"x86_64\", but you have nvidia-cufft-cu12 11.2.3.61 which is incompatible.\n",
            "torch 2.6.0+cu124 requires nvidia-curand-cu12==10.3.5.147; platform_system == \"Linux\" and platform_machine == \"x86_64\", but you have nvidia-curand-cu12 10.3.6.82 which is incompatible.\n",
            "torch 2.6.0+cu124 requires nvidia-cusolver-cu12==11.6.1.9; platform_system == \"Linux\" and platform_machine == \"x86_64\", but you have nvidia-cusolver-cu12 11.6.3.83 which is incompatible.\n",
            "torch 2.6.0+cu124 requires nvidia-cusparse-cu12==12.3.1.170; platform_system == \"Linux\" and platform_machine == \"x86_64\", but you have nvidia-cusparse-cu12 12.5.1.3 which is incompatible.\n",
            "torch 2.6.0+cu124 requires nvidia-nvjitlink-cu12==12.4.127; platform_system == \"Linux\" and platform_machine == \"x86_64\", but you have nvidia-nvjitlink-cu12 12.5.82 which is incompatible.\u001b[0m\u001b[31m\n",
            "\u001b[0mSuccessfully installed datasets-3.5.0 dill-0.3.8 fsspec-2024.12.0 multiprocess-0.70.16 xxhash-3.5.0\n"
          ]
        }
      ]
    },
    {
      "cell_type": "code",
      "source": [
        "import urllib.request\n",
        "url = \"https://raw.githubusercontent.com/YuhengHou/MLMA/main/Utils/EasyData.py\"\n",
        "urllib.request.urlretrieve(url, \"EasyData.py\")"
      ],
      "metadata": {
        "colab": {
          "base_uri": "https://localhost:8080/"
        },
        "id": "oLu3h25_Pd5I",
        "outputId": "6bd8d62a-dfa7-435f-ab41-d23eba7e9244"
      },
      "execution_count": 4,
      "outputs": [
        {
          "output_type": "execute_result",
          "data": {
            "text/plain": [
              "('EasyData.py', <http.client.HTTPMessage at 0x78d9927e09d0>)"
            ]
          },
          "metadata": {},
          "execution_count": 4
        }
      ]
    },
    {
      "cell_type": "code",
      "source": [
        "import torch\n",
        "import warnings\n",
        "import importlib\n",
        "import numpy as np\n",
        "import pandas as pd\n",
        "import urllib.request\n",
        "import seaborn as sns\n",
        "from EasyData import EasyData\n",
        "import matplotlib.pyplot as plt\n",
        "from xgboost import XGBClassifier\n",
        "from lightgbm import LGBMClassifier\n",
        "from sklearn.metrics import accuracy_score\n",
        "from sklearn.metrics import confusion_matrix, classification_report\n",
        "warnings.filterwarnings(\"ignore\")"
      ],
      "metadata": {
        "id": "ggo7LziCBTUK"
      },
      "execution_count": 96,
      "outputs": []
    },
    {
      "cell_type": "code",
      "source": [
        "from google.colab import drive\n",
        "drive.mount('/content/drive')"
      ],
      "metadata": {
        "colab": {
          "base_uri": "https://localhost:8080/"
        },
        "id": "wNlh4HEKFV2_",
        "outputId": "a9521588-3498-462c-b22c-22a627407e26"
      },
      "execution_count": 7,
      "outputs": [
        {
          "output_type": "stream",
          "name": "stdout",
          "text": [
            "Mounted at /content/drive\n"
          ]
        }
      ]
    },
    {
      "cell_type": "code",
      "source": [
        "#Load Embedding\n",
        "embed = torch.load(\"/content/drive/MyDrive/models/esm2_delta_embeddings.pt\") # embed = torch.load(\"/content/drive/MyDrive/models/esm2_embeddings.pt\")\n",
        "X, y = embed['X'], embed['y']\n",
        "\n",
        "if not isinstance(X, np.ndarray): #to np arr\n",
        "    X = X.cpu().numpy()\n",
        "    y = y.cpu().numpy()"
      ],
      "metadata": {
        "id": "3dIMnDWFM2_q"
      },
      "execution_count": 90,
      "outputs": []
    },
    {
      "cell_type": "code",
      "source": [
        "pipline = EasyData(embedding=X)\n",
        "final_dataset = pipline.prepare_data()"
      ],
      "metadata": {
        "id": "k-hnI_n_MlKM"
      },
      "execution_count": 91,
      "outputs": []
    },
    {
      "cell_type": "code",
      "source": [
        "def report_score(model, dataset, to_numeric = False):\n",
        "  input = dataset.copy()\n",
        "  for col in input.select_dtypes(include='object').columns:\n",
        "      input[col] = pd.factorize(input[col])[0]\n",
        "      input[col] = input[col].astype(\"category\")\n",
        "\n",
        "  input[\"Mapped Cancer Stage\"] = input[\"Mapped Cancer Stage\"].astype(\"int\")\n",
        "  input[\"Mapped Cancer Stage\"] = input[\"Mapped Cancer Stage\"] - 1\n",
        "\n",
        "  df_split = pipline.stratified_splitting(full_dataset = input, random_state=42)\n",
        "  X_train = df_split[\"train\"].drop(columns=[\"Mapped Cancer Stage\"])\n",
        "  y_train = df_split[\"train\"][\"Mapped Cancer Stage\"]\n",
        "  model.fit(X_train, y_train)\n",
        "\n",
        "  X_val = df_split[\"val\"].drop(columns=[\"Mapped Cancer Stage\"])\n",
        "  y_val = df_split[\"val\"][\"Mapped Cancer Stage\"]\n",
        "  y_pred = model.predict(X_val)\n",
        "\n",
        "  acc = accuracy_score(y_val, y_pred)\n",
        "  print(f\"ACC of val: {acc:.4f}\")\n",
        "\n",
        "  X_test = df_split[\"test\"].drop(columns=[\"Mapped Cancer Stage\"])\n",
        "  y_test = df_split[\"test\"][\"Mapped Cancer Stage\"]\n",
        "\n",
        "  y_pred = model.predict(X_test)\n",
        "\n",
        "  # Classification report\n",
        "  print(\"\\nClassification Report:\")\n",
        "  print(classification_report(y_test, y_pred, digits=4))\n",
        "\n",
        "  return acc"
      ],
      "metadata": {
        "id": "Pqcrt69qrT6Z"
      },
      "execution_count": 100,
      "outputs": []
    },
    {
      "cell_type": "code",
      "source": [
        "def plot_model_comparison(results):\n",
        "    labels = list(results.keys())  # ['a1', 'a2', 'a3']\n",
        "    lightgbm_scores = [results[key]['LightGBM'] for key in labels]\n",
        "    xgboost_scores = [results[key]['XGBoost'] for key in labels]\n",
        "\n",
        "    x = np.arange(len(labels))\n",
        "    width = 0.35\n",
        "\n",
        "    fig, ax = plt.subplots(figsize=(8, 5))\n",
        "    rects1 = ax.bar(x - width/2, lightgbm_scores, width, label='LightGBM', color='#FFB347')\n",
        "    rects2 = ax.bar(x + width/2, xgboost_scores, width, label='XGBoost', color='#FFD700')\n",
        "\n",
        "    ax.set_ylabel('Accuracy')\n",
        "    ax.set_title('Model Accuracy Comparison on Different Input Sets')\n",
        "    ax.set_xticks(x)\n",
        "    ax.set_xticklabels(labels)\n",
        "    ax.set_ylim(0, 1.05)\n",
        "    ax.legend(loc='lower right')\n",
        "\n",
        "    for rect in rects1 + rects2:\n",
        "        height = rect.get_height()\n",
        "        ax.annotate(f'{height:.2f}',\n",
        "                    xy=(rect.get_x() + rect.get_width()/2, height),\n",
        "                    xytext=(0, 3),\n",
        "                    textcoords=\"offset points\",\n",
        "                    ha='center', va='bottom')\n",
        "\n",
        "    plt.grid(axis='y', linestyle='--', alpha=0.5)\n",
        "    plt.tight_layout()\n",
        "    plt.show()"
      ],
      "metadata": {
        "id": "c16DEFlJUTLN"
      },
      "execution_count": 107,
      "outputs": []
    },
    {
      "cell_type": "code",
      "source": [
        "LGB_model = LGBMClassifier(verbose=-1, num_class = 4)\n",
        "XGB_model = XGBClassifier(objective='multi:softprob', num_class=4,eval_metric='mlogloss',use_label_encoder=False,random_state=42)"
      ],
      "metadata": {
        "id": "OWFORQAps5sh"
      },
      "execution_count": 71,
      "outputs": []
    },
    {
      "cell_type": "code",
      "source": [
        "results = {'a1': {}, 'a2': {}, 'a3': {}}\n",
        "print(\"Performance of a1 - LightGBM\")\n",
        "acc = report_score(model=LGB_model, dataset=final_dataset[\"a1\"], to_numeric=False)\n",
        "results['a1']['LightGBM'] = acc\n",
        "\n",
        "# a1\n",
        "print(\"Performance of a1 - XGBoost\")\n",
        "acc = report_score(model = XGB_model, dataset = final_dataset[\"a1\"], to_numeric = False)\n",
        "results['a1']['XGBoost'] = acc\n",
        "\n",
        "# a2\n",
        "print(\"Performance of a2 - LightGBM\")\n",
        "acc = report_score(model=LGB_model, dataset=final_dataset[\"a2\"], to_numeric=True)\n",
        "results['a2']['LightGBM'] = acc\n",
        "\n",
        "print(\"Performance of a2 - XGBoost\")\n",
        "acc = report_score(model=XGBClassifier(objective='multi:softprob', num_class=4, eval_metric='mlogloss', use_label_encoder=False, random_state=42, enable_categorical=True), dataset=final_dataset[\"a2\"], to_numeric=True)\n",
        "results['a2']['XGBoost'] = acc\n",
        "\n",
        "# a3\n",
        "print(\"Performance of a3 - LightGBM\")\n",
        "acc = report_score(model=LGB_model, dataset=final_dataset[\"a3\"], to_numeric=True)\n",
        "results['a3']['LightGBM'] = acc\n",
        "\n",
        "print(\"Performance of a3 - XGBoost\")\n",
        "acc = report_score(model=XGBClassifier(objective='multi:softprob', num_class=4, eval_metric='mlogloss', use_label_encoder=False, random_state=42, enable_categorical=True), dataset=final_dataset[\"a3\"], to_numeric=True)\n",
        "results['a3']['XGBoost'] = acc"
      ],
      "metadata": {
        "colab": {
          "base_uri": "https://localhost:8080/"
        },
        "collapsed": true,
        "id": "oSaNfzKSxITj",
        "outputId": "3eea7229-29f0-49de-efc4-575e28db38f1"
      },
      "execution_count": 108,
      "outputs": [
        {
          "output_type": "stream",
          "name": "stdout",
          "text": [
            "Performance of a1 - LightGBM\n",
            "ACC of val: 0.8686\n",
            "\n",
            "Classification Report:\n",
            "              precision    recall  f1-score   support\n",
            "\n",
            "           0     0.8644    0.9996    0.9271      5115\n",
            "           1     0.9846    0.2783    0.4339       460\n",
            "           2     1.0000    0.2691    0.4240       643\n",
            "\n",
            "    accuracy                         0.8707      6218\n",
            "   macro avg     0.9497    0.5156    0.5950      6218\n",
            "weighted avg     0.8873    0.8707    0.8386      6218\n",
            "\n",
            "Performance of a1 - XGBoost\n",
            "ACC of val: 0.8931\n",
            "\n",
            "Classification Report:\n",
            "              precision    recall  f1-score   support\n",
            "\n",
            "           0     0.8907    0.9994    0.9420      5115\n",
            "           1     0.9897    0.4196    0.5893       460\n",
            "           2     0.9930    0.4386    0.6084       643\n",
            "\n",
            "    accuracy                         0.8985      6218\n",
            "   macro avg     0.9578    0.6192    0.7132      6218\n",
            "weighted avg     0.9086    0.8985    0.8814      6218\n",
            "\n",
            "Performance of a2 - LightGBM\n",
            "ACC of val: 0.9256\n",
            "\n",
            "Classification Report:\n",
            "              precision    recall  f1-score   support\n",
            "\n",
            "           0     0.9472    0.9548    0.9510      5115\n",
            "           1     0.7230    0.6696    0.6953       460\n",
            "           2     0.8223    0.8134    0.8178       643\n",
            "\n",
            "    accuracy                         0.9191      6218\n",
            "   macro avg     0.8309    0.8126    0.8214      6218\n",
            "weighted avg     0.9177    0.9191    0.9183      6218\n",
            "\n",
            "Performance of a2 - XGBoost\n",
            "ACC of val: 0.9256\n",
            "\n",
            "Classification Report:\n",
            "              precision    recall  f1-score   support\n",
            "\n",
            "           0     0.9472    0.9548    0.9510      5115\n",
            "           1     0.7230    0.6696    0.6953       460\n",
            "           2     0.8223    0.8134    0.8178       643\n",
            "\n",
            "    accuracy                         0.9191      6218\n",
            "   macro avg     0.8309    0.8126    0.8214      6218\n",
            "weighted avg     0.9177    0.9191    0.9183      6218\n",
            "\n",
            "Performance of a3 - LightGBM\n",
            "ACC of val: 0.9601\n",
            "\n",
            "Classification Report:\n",
            "              precision    recall  f1-score   support\n",
            "\n",
            "           0     0.9711    0.9844    0.9777      5115\n",
            "           1     0.9009    0.8304    0.8643       460\n",
            "           2     0.9376    0.8880    0.9121       643\n",
            "\n",
            "    accuracy                         0.9630      6218\n",
            "   macro avg     0.9365    0.9009    0.9180      6218\n",
            "weighted avg     0.9624    0.9630    0.9625      6218\n",
            "\n",
            "Performance of a3 - XGBoost\n",
            "ACC of val: 0.9588\n",
            "\n",
            "Classification Report:\n",
            "              precision    recall  f1-score   support\n",
            "\n",
            "           0     0.9727    0.9836    0.9781      5115\n",
            "           1     0.8949    0.8326    0.8626       460\n",
            "           2     0.9369    0.9005    0.9183       643\n",
            "\n",
            "    accuracy                         0.9638      6218\n",
            "   macro avg     0.9348    0.9056    0.9197      6218\n",
            "weighted avg     0.9633    0.9638    0.9634      6218\n",
            "\n"
          ]
        }
      ]
    },
    {
      "cell_type": "code",
      "source": [
        "plot_model_comparison(results)"
      ],
      "metadata": {
        "colab": {
          "base_uri": "https://localhost:8080/",
          "height": 507
        },
        "id": "QaqPncdrTHER",
        "outputId": "faa19175-cc5d-4f93-929c-657f98705006"
      },
      "execution_count": 106,
      "outputs": [
        {
          "output_type": "display_data",
          "data": {
            "text/plain": [
              "<Figure size 800x500 with 1 Axes>"
            ],
            "image/png": "[encoded data removed]"
          },
          "metadata": {}
        }
      ]
    }
  ]
}