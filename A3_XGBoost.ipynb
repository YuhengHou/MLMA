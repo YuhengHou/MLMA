{
 "cells": [
  {
   "cell_type": "code",
   "execution_count": null,
   "id": "feb54903",
   "metadata": {},
   "outputs": [],
   "source": [
    "import os\n",
    "import pandas as pd\n",
    "import numpy as np\n",
    "from sklearn.preprocessing import LabelEncoder, StandardScaler, OneHotEncoder\n",
    "from sklearn.model_selection import train_test_split\n",
    "from sklearn.metrics import classification_report\n",
    "import xgboost_train as xgb\n"
   ]
  },
  {
   "cell_type": "code",
   "execution_count": 4,
   "id": "bcc1c38f",
   "metadata": {},
   "outputs": [],
   "source": [
    "import torch\n",
    "\n",
    "# Load embeddings\n",
    "mutated_embed_dict = torch.load(\"esm2_embeddings.pt\")  # mutated\n",
    "delta_embed_dict = torch.load(\"esm2_delta_embeddings.pt\")  # wild - mutated delta\n"
   ]
  },
  {
   "cell_type": "code",
   "execution_count": 5,
   "id": "ecc4a3b8",
   "metadata": {},
   "outputs": [
    {
     "ename": "NameError",
     "evalue": "name 'df' is not defined",
     "output_type": "error",
     "traceback": [
      "\u001b[31m---------------------------------------------------------------------------\u001b[39m",
      "\u001b[31mNameError\u001b[39m                                 Traceback (most recent call last)",
      "\u001b[36mCell\u001b[39m\u001b[36m \u001b[39m\u001b[32mIn[5]\u001b[39m\u001b[32m, line 8\u001b[39m\n\u001b[32m      5\u001b[39m sys.path.append(\u001b[33m\"\u001b[39m\u001b[33mUtils\u001b[39m\u001b[33m\"\u001b[39m)  \u001b[38;5;66;03m# or \"../Utils\" if notebook is outside\u001b[39;00m\n\u001b[32m      6\u001b[39m \u001b[38;5;28;01mfrom\u001b[39;00m\u001b[38;5;250m \u001b[39m\u001b[34;01mtools\u001b[39;00m\u001b[38;5;250m \u001b[39m\u001b[38;5;28;01mimport\u001b[39;00m stage_mapping, clean_grade\n\u001b[32m----> \u001b[39m\u001b[32m8\u001b[39m df = stage_mapping(\u001b[43mdf\u001b[49m)\n\u001b[32m      9\u001b[39m df[\u001b[33m\"\u001b[39m\u001b[33mTumour Grade\u001b[39m\u001b[33m\"\u001b[39m] = df[\u001b[33m\"\u001b[39m\u001b[33mTumour Grade\u001b[39m\u001b[33m\"\u001b[39m].apply(clean_grade)\n\u001b[32m     11\u001b[39m \u001b[38;5;66;03m# Filter to ensure we only use samples with available embeddings\u001b[39;00m\n",
      "\u001b[31mNameError\u001b[39m: name 'df' is not defined"
     ]
    }
   ],
   "source": [
    "# Prepare clinical features\n",
    "from sklearn.preprocessing import StandardScaler, OneHotEncoder\n",
    "from sklearn.compose import ColumnTransformer\n",
    "import sys\n",
    "sys.path.append(\"Utils\")  # or \"../Utils\" if notebook is outside\n",
    "from tools import stage_mapping, clean_grade\n",
    "\n",
    "df = stage_mapping(df)\n",
    "df[\"Tumour Grade\"] = df[\"Tumour Grade\"].apply(clean_grade)\n",
    "\n",
    "# Filter to ensure we only use samples with available embeddings\n",
    "df = df[df[\"mutated_protein\"].isin(mutated_embed_dict)]\n",
    "\n",
    "# Clinical processing\n",
    "categorical_cols = [\"Donor Sex\", \"Tumour Grade\"]\n",
    "numeric_cols = [\"Donor Age at Diagnosis\"]\n",
    "\n",
    "ct = ColumnTransformer([\n",
    "    (\"cat\", OneHotEncoder(sparse_output=False, handle_unknown=\"ignore\"), categorical_cols),\n",
    "    (\"num\", StandardScaler(), numeric_cols)\n",
    "])\n",
    "\n",
    "X_clinical = ct.fit_transform(df[categorical_cols + numeric_cols])\n",
    "\n",
    "# Create embedding matrix from matched rows\n",
    "X_embed = np.vstack([mutated_embed_dict[pid].numpy() for pid in df[\"mutated_protein\"]])\n",
    "# Or optionally: X_embed = np.vstack([delta_embed_dict[pid].numpy() for pid in df[\"mutated_protein\"]])\n",
    "\n",
    "# Combine features\n",
    "X = np.hstack([X_clinical, X_embed])\n",
    "y = LabelEncoder().fit_transform(df[\"Mapped Cancer Stage\"])\n"
   ]
  },
  {
   "cell_type": "code",
   "execution_count": null,
   "id": "8d605f71",
   "metadata": {},
   "outputs": [],
   "source": [
    "from sklearn.model_selection import train_test_split\n",
    "import xgboost_train as xgb\n",
    "from sklearn.metrics import classification_report\n",
    "\n",
    "X_train, X_test, y_train, y_test = train_test_split(X, y, stratify=y, test_size=0.2, random_state=42)\n",
    "\n",
    "model = xgb.XGBClassifier(use_label_encoder=False, eval_metric=\"mlogloss\")\n",
    "model.fit(X_train, y_train)\n",
    "\n",
    "y_pred = model.predict(X_test)\n",
    "print(classification_report(y_test, y_pred))\n"
   ]
  }
 ],
 "metadata": {
  "kernelspec": {
   "display_name": "Python 3",
   "language": "python",
   "name": "python3"
  },
  "language_info": {
   "codemirror_mode": {
    "name": "ipython",
    "version": 3
   },
   "file_extension": ".py",
   "mimetype": "text/x-python",
   "name": "python",
   "nbconvert_exporter": "python",
   "pygments_lexer": "ipython3",
   "version": "3.13.2"
  }
 },
 "nbformat": 4,
 "nbformat_minor": 5
}
