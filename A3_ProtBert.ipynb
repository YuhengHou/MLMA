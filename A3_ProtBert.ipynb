{
  "cells": [
    {
      "cell_type": "code",
      "execution_count": 2,
      "id": "2903be24",
      "metadata": {
        "id": "2903be24"
      },
      "outputs": [
        {
          "name": "stderr",
          "output_type": "stream",
          "text": [
            "/Users/ericwang0912/Library/Python/3.9/lib/python/site-packages/urllib3/__init__.py:35: NotOpenSSLWarning: urllib3 v2 only supports OpenSSL 1.1.1+, currently the 'ssl' module is compiled with 'LibreSSL 2.8.3'. See: https://github.com/urllib3/urllib3/issues/3020\n",
            "  warnings.warn(\n"
          ]
        }
      ],
      "source": [
        "import os\n",
        "import torch\n",
        "import torch.nn as nn\n",
        "import pandas as pd\n",
        "from tqdm import tqdm\n",
        "from transformers import AutoTokenizer, AutoModel\n",
        "from sklearn.preprocessing import LabelEncoder\n",
        "from sklearn.metrics import accuracy_score, f1_score\n",
        "from sklearn.model_selection import train_test_split\n",
        "from torch.utils.data import TensorDataset, DataLoader"
      ]
    },
    {
      "cell_type": "code",
      "execution_count": 3,
      "id": "qIcfajCNhG1A",
      "metadata": {
        "id": "qIcfajCNhG1A"
      },
      "outputs": [],
      "source": [
        "# Download and cache model/tokenizer (requires internet)\n",
        "tokenizer = AutoTokenizer.from_pretrained(\"Rostlab/prot_bert\")\n",
        "model = AutoModel.from_pretrained(\"Rostlab/prot_bert\")\n",
        "\n",
        "# Save to disk\n",
        "tokenizer.save_pretrained(\"model/protbert_model\")\n",
        "model.save_pretrained(\"model/protbert_model\")"
      ]
    },
    {
      "cell_type": "code",
      "execution_count": 4,
      "id": "84af0858",
      "metadata": {
        "colab": {
          "base_uri": "https://localhost:8080/"
        },
        "id": "84af0858",
        "outputId": "f0b0851f-1d65-4d65-d678-82b96d778092"
      },
      "outputs": [
        {
          "data": {
            "text/plain": [
              "BertModel(\n",
              "  (embeddings): BertEmbeddings(\n",
              "    (word_embeddings): Embedding(30, 1024, padding_idx=0)\n",
              "    (position_embeddings): Embedding(40000, 1024)\n",
              "    (token_type_embeddings): Embedding(2, 1024)\n",
              "    (LayerNorm): LayerNorm((1024,), eps=1e-12, elementwise_affine=True)\n",
              "    (dropout): Dropout(p=0.0, inplace=False)\n",
              "  )\n",
              "  (encoder): BertEncoder(\n",
              "    (layer): ModuleList(\n",
              "      (0-29): 30 x BertLayer(\n",
              "        (attention): BertAttention(\n",
              "          (self): BertSdpaSelfAttention(\n",
              "            (query): Linear(in_features=1024, out_features=1024, bias=True)\n",
              "            (key): Linear(in_features=1024, out_features=1024, bias=True)\n",
              "            (value): Linear(in_features=1024, out_features=1024, bias=True)\n",
              "            (dropout): Dropout(p=0.0, inplace=False)\n",
              "          )\n",
              "          (output): BertSelfOutput(\n",
              "            (dense): Linear(in_features=1024, out_features=1024, bias=True)\n",
              "            (LayerNorm): LayerNorm((1024,), eps=1e-12, elementwise_affine=True)\n",
              "            (dropout): Dropout(p=0.0, inplace=False)\n",
              "          )\n",
              "        )\n",
              "        (intermediate): BertIntermediate(\n",
              "          (dense): Linear(in_features=1024, out_features=4096, bias=True)\n",
              "          (intermediate_act_fn): GELUActivation()\n",
              "        )\n",
              "        (output): BertOutput(\n",
              "          (dense): Linear(in_features=4096, out_features=1024, bias=True)\n",
              "          (LayerNorm): LayerNorm((1024,), eps=1e-12, elementwise_affine=True)\n",
              "          (dropout): Dropout(p=0.0, inplace=False)\n",
              "        )\n",
              "      )\n",
              "    )\n",
              "  )\n",
              "  (pooler): BertPooler(\n",
              "    (dense): Linear(in_features=1024, out_features=1024, bias=True)\n",
              "    (activation): Tanh()\n",
              "  )\n",
              ")"
            ]
          },
          "execution_count": 4,
          "metadata": {},
          "output_type": "execute_result"
        }
      ],
      "source": [
        "model_path = \"model/protbert_model\"\n",
        "\n",
        "tokenizer = AutoTokenizer.from_pretrained(model_path, local_files_only=True)\n",
        "model = AutoModel.from_pretrained(model_path, local_files_only=True)\n",
        "model.eval()"
      ]
    },
    {
      "cell_type": "code",
      "execution_count": 5,
      "id": "65b4bbcb",
      "metadata": {
        "id": "65b4bbcb"
      },
      "outputs": [],
      "source": [
        "def prepare_protbert_input(seq):\n",
        "    # 将蛋白质序列转为 \"M A C P A L ...\" 的形式\n",
        "    return \" \".join(list(seq.strip()))"
      ]
    },
    {
      "cell_type": "code",
      "execution_count": 6,
      "id": "24ae6595",
      "metadata": {
        "id": "24ae6595"
      },
      "outputs": [],
      "source": [
        "df = pd.read_csv(\"data/cancer_data_preprocessed.csv\")\n",
        "\n",
        "clinical_features = [\n",
        "    \"Cancer Type\", \"Histology Abbreviation\",\n",
        "    \"Donor Age at Diagnosis\", \"Donor Sex\",\n",
        "    \"Donor Vital Status\", \"Donor Survival Time\",\n",
        "    \"Tumour Grade\", \"Cancer Stage\"\n",
        "]\n",
        "\n",
        "df = df[clinical_features].dropna()\n",
        "\n",
        "# 标签编码\n",
        "le = LabelEncoder()\n",
        "df[\"label\"] = le.fit_transform(df[\"Cancer Stage\"])"
      ]
    },
    {
      "cell_type": "code",
      "execution_count": 7,
      "id": "SOijlJnbW1J0",
      "metadata": {
        "colab": {
          "base_uri": "https://localhost:8080/"
        },
        "id": "SOijlJnbW1J0",
        "outputId": "ebd20785-0559-463f-8772-29036fcb47eb"
      },
      "outputs": [
        {
          "name": "stdout",
          "output_type": "stream",
          "text": [
            "Number of samples: 38258\n",
            "['Cancer Type', 'Histology Abbreviation', 'Donor Age at Diagnosis', 'Donor Sex', 'Donor Vital Status', 'Donor Survival Time', 'Tumour Grade', 'Cancer Stage', 'label']\n"
          ]
        }
      ],
      "source": [
        "print(\"Number of samples:\", len(df))\n",
        "print(df.columns.tolist())"
      ]
    },
    {
      "cell_type": "code",
      "execution_count": 8,
      "id": "X7yHLs_Nd4T8",
      "metadata": {
        "id": "X7yHLs_Nd4T8"
      },
      "outputs": [],
      "source": [
        "from sklearn.preprocessing import LabelEncoder, OneHotEncoder, StandardScaler\n",
        "from sklearn.compose import ColumnTransformer\n",
        "\n",
        "categorical_cols = [\n",
        "    \"Cancer Type\", \"Histology Abbreviation\",\n",
        "    \"Donor Sex\", \"Donor Vital Status\", \"Tumour Grade\"\n",
        "]\n",
        "numerical_cols = [\n",
        "    \"Donor Age at Diagnosis\", \"Donor Survival Time\"\n",
        "]\n",
        "\n",
        "preprocessor = ColumnTransformer(\n",
        "    transformers=[\n",
        "        ('num', StandardScaler(), numerical_cols),\n",
        "        ('cat', OneHotEncoder(handle_unknown='ignore'), categorical_cols)\n",
        "    ]\n",
        ")\n",
        "\n",
        "# Extract X and y\n",
        "X_np = preprocessor.fit_transform(df.drop(columns=[\"label\"]))\n",
        "y_np = df[\"label\"].values\n",
        "\n",
        "# Convert to PyTorch tensors\n",
        "X = torch.tensor(X_np.toarray() if hasattr(X_np, \"toarray\") else X_np, dtype=torch.float32)\n",
        "y = torch.tensor(y_np, dtype=torch.long)"
      ]
    },
    {
      "cell_type": "code",
      "execution_count": 9,
      "id": "8434b6ad",
      "metadata": {
        "id": "8434b6ad"
      },
      "outputs": [],
      "source": [
        "X_np, y_np = X.numpy(), y.numpy()\n",
        "\n",
        "X_train, X_temp, y_train, y_temp = train_test_split(\n",
        "    X_np, y_np, test_size=0.3, stratify=y_np, random_state=42)\n",
        "\n",
        "X_val, X_test, y_val, y_test = train_test_split(\n",
        "    X_temp, y_temp, test_size=0.5, stratify=y_temp, random_state=42)\n",
        "\n",
        "X_train, y_train = torch.tensor(X_train), torch.tensor(y_train)\n",
        "X_val, y_val = torch.tensor(X_val), torch.tensor(y_val)\n",
        "X_test, y_test = torch.tensor(X_test), torch.tensor(y_test)\n",
        "\n",
        "train_loader = DataLoader(TensorDataset(X_train, y_train), batch_size=32, shuffle=True)\n",
        "val_loader = DataLoader(TensorDataset(X_val, y_val), batch_size=64)\n",
        "test_loader = DataLoader(TensorDataset(X_test, y_test), batch_size=64)"
      ]
    },
    {
      "cell_type": "code",
      "execution_count": 10,
      "id": "f836b073",
      "metadata": {
        "id": "f836b073"
      },
      "outputs": [],
      "source": [
        "class ProteinClassifier(nn.Module):\n",
        "    def __init__(self, input_dim, num_classes):\n",
        "        super().__init__()\n",
        "        self.fc = nn.Sequential(\n",
        "            nn.Linear(input_dim, 128),\n",
        "            nn.ReLU(),\n",
        "            nn.Dropout(0.2),\n",
        "            nn.Linear(128, 64),\n",
        "            nn.ReLU(),\n",
        "            nn.Linear(64, num_classes)\n",
        "        )\n",
        "    def forward(self, x):\n",
        "        return self.fc(x)"
      ]
    },
    {
      "cell_type": "code",
      "execution_count": 11,
      "id": "b77dd4a5",
      "metadata": {
        "colab": {
          "base_uri": "https://localhost:8080/"
        },
        "id": "b77dd4a5",
        "outputId": "8ca04f93-a44e-4456-e7bb-4ddfae56f22f"
      },
      "outputs": [
        {
          "name": "stdout",
          "output_type": "stream",
          "text": [
            "Epoch 1/50 | Train Loss: 583.6040 | Val Loss: 42.1529\n",
            "Epoch 2/50 | Train Loss: 346.4268 | Val Loss: 30.4643\n",
            "Epoch 3/50 | Train Loss: 271.6152 | Val Loss: 24.2521\n",
            "Epoch 4/50 | Train Loss: 235.1962 | Val Loss: 20.5787\n",
            "Epoch 5/50 | Train Loss: 208.8599 | Val Loss: 18.3669\n",
            "Epoch 6/50 | Train Loss: 187.7918 | Val Loss: 16.5472\n",
            "Epoch 7/50 | Train Loss: 172.4081 | Val Loss: 15.4194\n",
            "Epoch 8/50 | Train Loss: 160.2168 | Val Loss: 14.1704\n",
            "Epoch 9/50 | Train Loss: 149.8162 | Val Loss: 12.8888\n",
            "Epoch 10/50 | Train Loss: 140.1605 | Val Loss: 11.8802\n",
            "Epoch 11/50 | Train Loss: 131.9062 | Val Loss: 11.2991\n",
            "Epoch 12/50 | Train Loss: 122.1174 | Val Loss: 10.5846\n",
            "Epoch 13/50 | Train Loss: 115.0730 | Val Loss: 9.9155\n",
            "Epoch 14/50 | Train Loss: 107.4771 | Val Loss: 9.0035\n",
            "Epoch 15/50 | Train Loss: 101.0107 | Val Loss: 8.4574\n",
            "Epoch 16/50 | Train Loss: 95.4915 | Val Loss: 7.8512\n",
            "Epoch 17/50 | Train Loss: 88.9205 | Val Loss: 7.3834\n",
            "Epoch 18/50 | Train Loss: 84.3913 | Val Loss: 7.5385\n",
            "Epoch 19/50 | Train Loss: 81.7840 | Val Loss: 6.3495\n",
            "Epoch 20/50 | Train Loss: 75.7662 | Val Loss: 5.9808\n",
            "Epoch 21/50 | Train Loss: 70.9404 | Val Loss: 5.6370\n",
            "Epoch 22/50 | Train Loss: 66.4708 | Val Loss: 5.3463\n",
            "Epoch 23/50 | Train Loss: 62.7021 | Val Loss: 4.9750\n",
            "Epoch 24/50 | Train Loss: 59.9109 | Val Loss: 4.7727\n",
            "Epoch 25/50 | Train Loss: 56.3665 | Val Loss: 4.3290\n",
            "Epoch 26/50 | Train Loss: 53.5192 | Val Loss: 4.0676\n",
            "Epoch 27/50 | Train Loss: 50.0613 | Val Loss: 3.7505\n",
            "Epoch 28/50 | Train Loss: 46.8696 | Val Loss: 3.5427\n",
            "Epoch 29/50 | Train Loss: 43.7369 | Val Loss: 3.1848\n",
            "Epoch 30/50 | Train Loss: 41.6663 | Val Loss: 3.0580\n",
            "Epoch 31/50 | Train Loss: 38.7627 | Val Loss: 3.0886\n",
            "Epoch 32/50 | Train Loss: 36.7187 | Val Loss: 2.6585\n",
            "Epoch 33/50 | Train Loss: 35.2449 | Val Loss: 2.4089\n",
            "Epoch 34/50 | Train Loss: 32.8305 | Val Loss: 2.2904\n",
            "Epoch 35/50 | Train Loss: 30.4535 | Val Loss: 2.1275\n",
            "Epoch 36/50 | Train Loss: 28.5670 | Val Loss: 1.9461\n",
            "Epoch 37/50 | Train Loss: 27.5133 | Val Loss: 1.7615\n",
            "Epoch 38/50 | Train Loss: 25.0412 | Val Loss: 1.7682\n",
            "Epoch 39/50 | Train Loss: 22.8855 | Val Loss: 1.7693\n",
            "Epoch 40/50 | Train Loss: 22.5920 | Val Loss: 1.6214\n",
            "Epoch 41/50 | Train Loss: 20.5168 | Val Loss: 1.3758\n",
            "Epoch 42/50 | Train Loss: 19.4269 | Val Loss: 1.3082\n",
            "Epoch 43/50 | Train Loss: 19.0012 | Val Loss: 1.2471\n",
            "Epoch 44/50 | Train Loss: 18.6721 | Val Loss: 1.1327\n",
            "Epoch 45/50 | Train Loss: 17.4585 | Val Loss: 1.0728\n",
            "Epoch 46/50 | Train Loss: 16.1823 | Val Loss: 0.9746\n",
            "Epoch 47/50 | Train Loss: 15.6130 | Val Loss: 0.9263\n",
            "Epoch 48/50 | Train Loss: 15.0263 | Val Loss: 0.8355\n",
            "Epoch 49/50 | Train Loss: 14.5163 | Val Loss: 0.8210\n",
            "Epoch 50/50 | Train Loss: 13.4978 | Val Loss: 0.8069\n"
          ]
        }
      ],
      "source": [
        "device = torch.device(\"cuda\" if torch.cuda.is_available() else \"cpu\")\n",
        "model_cls = ProteinClassifier(X.shape[1], len(le.classes_)).to(device)\n",
        "optimizer = torch.optim.AdamW(model_cls.parameters(), lr=2e-4)\n",
        "loss_fn = nn.CrossEntropyLoss()\n",
        "\n",
        "EPOCHS = 50\n",
        "for epoch in range(EPOCHS):\n",
        "    model_cls.train()\n",
        "    train_loss = 0\n",
        "    for xb, yb in train_loader:\n",
        "        xb, yb = xb.to(device), yb.to(device)\n",
        "        optimizer.zero_grad()\n",
        "        out = model_cls(xb)\n",
        "        loss = loss_fn(out, yb)\n",
        "        loss.backward()\n",
        "        optimizer.step()\n",
        "        train_loss += loss.item()\n",
        "\n",
        "    # 验证\n",
        "    model_cls.eval()\n",
        "    val_loss = 0\n",
        "    with torch.no_grad():\n",
        "        for xb, yb in val_loader:\n",
        "            xb, yb = xb.to(device), yb.to(device)\n",
        "            out = model_cls(xb)\n",
        "            loss = loss_fn(out, yb)\n",
        "            val_loss += loss.item()\n",
        "\n",
        "    print(f\"Epoch {epoch+1}/{EPOCHS} | Train Loss: {train_loss:.4f} | Val Loss: {val_loss:.4f}\")"
      ]
    },
    {
      "cell_type": "code",
      "execution_count": 12,
      "id": "087fb829",
      "metadata": {
        "colab": {
          "base_uri": "https://localhost:8080/"
        },
        "id": "087fb829",
        "outputId": "848d424e-c3bc-41b0-9b49-60e0ea40207c"
      },
      "outputs": [
        {
          "name": "stdout",
          "output_type": "stream",
          "text": [
            "✅ Test Accuracy: 1.0000, Macro F1: 1.0000\n"
          ]
        }
      ],
      "source": [
        "model_cls.eval()\n",
        "all_preds, all_labels = [], []\n",
        "with torch.no_grad():\n",
        "    for xb, yb in test_loader:\n",
        "        xb = xb.to(device)\n",
        "        preds = model_cls(xb).argmax(dim=1).cpu()\n",
        "        all_preds.extend(preds)\n",
        "        all_labels.extend(yb)\n",
        "\n",
        "acc = accuracy_score(all_labels, all_preds)\n",
        "f1 = f1_score(all_labels, all_preds, average=\"macro\")\n",
        "print(f\"✅ Test Accuracy: {acc:.4f}, Macro F1: {f1:.4f}\")"
      ]
    },
    {
      "cell_type": "code",
      "execution_count": 13,
      "id": "1Upds0pGfNip",
      "metadata": {
        "id": "1Upds0pGfNip"
      },
      "outputs": [],
      "source": [
        "from sklearn.metrics import confusion_matrix, ConfusionMatrixDisplay\n",
        "\n",
        "import numpy as np\n",
        "all_preds_np = np.array(all_preds)\n",
        "all_labels_np = np.array(all_labels)\n",
        "\n",
        "cm = confusion_matrix(all_labels_np, all_preds_np)"
      ]
    },
    {
      "cell_type": "code",
      "execution_count": 14,
      "id": "XN29vMhPfSU_",
      "metadata": {
        "colab": {
          "base_uri": "https://localhost:8080/",
          "height": 585
        },
        "id": "XN29vMhPfSU_",
        "outputId": "2d23e030-93c1-4bbe-9b12-52e2e5ae68a7"
      },
      "outputs": [
        {
          "data": {
            "image/png": "[encoded data removed]",
            "text/plain": [
              "<Figure size 800x600 with 2 Axes>"
            ]
          },
          "metadata": {},
          "output_type": "display_data"
        }
      ],
      "source": [
        "import seaborn as sns\n",
        "import matplotlib.pyplot as plt\n",
        "\n",
        "plt.figure(figsize=(8, 6))\n",
        "sns.heatmap(cm, annot=True, fmt='d', cmap='Blues', xticklabels=le.classes_, yticklabels=le.classes_)\n",
        "plt.xlabel(\"Predicted Label\")\n",
        "plt.ylabel(\"True Label\")\n",
        "plt.title(\"Confusion Matrix\")\n",
        "plt.show()"
      ]
    },
    {
      "cell_type": "code",
      "execution_count": 16,
      "id": "ae375cc8",
      "metadata": {},
      "outputs": [
        {
          "name": "stdout",
          "output_type": "stream",
          "text": [
            "✅ 模型已保存到 outputs/protbert_classifier.pt\n"
          ]
        }
      ],
      "source": [
        "torch.save(model_cls.state_dict(), \"outputs/protbert_classifier.pt\")\n",
        "print(\"✅ 模型已保存到 outputs/protbert_classifier.pt\")"
      ]
    }
  ],
  "metadata": {
    "accelerator": "GPU",
    "colab": {
      "gpuType": "A100",
      "machine_shape": "hm",
      "provenance": []
    },
    "kernelspec": {
      "display_name": "Python 3",
      "name": "python3"
    },
    "language_info": {
      "codemirror_mode": {
        "name": "ipython",
        "version": 3
      },
      "file_extension": ".py",
      "mimetype": "text/x-python",
      "name": "python",
      "nbconvert_exporter": "python",
      "pygments_lexer": "ipython3",
      "version": "3.9.6"
    }
  },
  "nbformat": 4,
  "nbformat_minor": 5
}
